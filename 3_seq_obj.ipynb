{
 "cells": [
  {
   "cell_type": "code",
   "execution_count": 9,
   "metadata": {},
   "outputs": [],
   "source": [
    "from Bio.Seq import Seq"
   ]
  },
  {
   "cell_type": "code",
   "execution_count": 10,
   "metadata": {},
   "outputs": [
    {
     "name": "stdout",
     "output_type": "stream",
     "text": [
      "Alphabet()\n"
     ]
    },
    {
     "data": {
      "text/plain": [
       "Seq('AGTACACTGGT', Alphabet())"
      ]
     },
     "execution_count": 10,
     "metadata": {},
     "output_type": "execute_result"
    }
   ],
   "source": [
    "my_seq = Seq(\"AGTACACTGGT\")\n",
    "\n",
    "print(my_seq.alphabet) # default generic alphabet\n",
    "my_seq"
   ]
  },
  {
   "cell_type": "code",
   "execution_count": 11,
   "metadata": {},
   "outputs": [
    {
     "name": "stdout",
     "output_type": "stream",
     "text": [
      "IUPACUnambiguousDNA()\n"
     ]
    },
    {
     "data": {
      "text/plain": [
       "Seq('AGTACACTGGT', IUPACUnambiguousDNA())"
      ]
     },
     "execution_count": 11,
     "metadata": {},
     "output_type": "execute_result"
    }
   ],
   "source": [
    "from Bio.Alphabet import IUPAC\n",
    "my_seq = Seq(\"AGTACACTGGT\", IUPAC.unambiguous_dna) # specified alphabet\n",
    "print(my_seq.alphabet)\n",
    "my_seq"
   ]
  },
  {
   "cell_type": "code",
   "execution_count": 12,
   "metadata": {},
   "outputs": [
    {
     "name": "stdout",
     "output_type": "stream",
     "text": [
      "IUPACProtein()\n"
     ]
    },
    {
     "data": {
      "text/plain": [
       "Seq('AGTACACTGGT', IUPACProtein())"
      ]
     },
     "execution_count": 12,
     "metadata": {},
     "output_type": "execute_result"
    }
   ],
   "source": [
    "from Bio.Alphabet import IUPAC\n",
    "my_seq = Seq(\"AGTACACTGGT\", IUPAC.protein) # specified alphabet\n",
    "print(my_seq.alphabet)\n",
    "my_seq"
   ]
  },
  {
   "cell_type": "code",
   "execution_count": null,
   "metadata": {},
   "outputs": [],
   "source": []
  }
 ],
 "metadata": {
  "kernelspec": {
   "display_name": "Python [conda env:DNAlyzer]",
   "language": "python",
   "name": "conda-env-DNAlyzer-py"
  },
  "language_info": {
   "codemirror_mode": {
    "name": "ipython",
    "version": 3
   },
   "file_extension": ".py",
   "mimetype": "text/x-python",
   "name": "python",
   "nbconvert_exporter": "python",
   "pygments_lexer": "ipython3",
   "version": "3.6.4"
  }
 },
 "nbformat": 4,
 "nbformat_minor": 2
}
